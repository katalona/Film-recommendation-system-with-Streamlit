{
 "cells": [
  {
   "cell_type": "markdown",
   "metadata": {},
   "source": [
    "Сделаем предобработку данных: \n",
    " \n",
    "* Объединим общие данные о фильмах [tmdb_5000_movies](https://files.sberdisk.ru/s/te4QbzdxKgsFQXA) и каст фильмов \n",
    "[tmdb_5000_credits](https://files.sberdisk.ru/s/H9oRuXQt5mFz3T9). \n",
    "* Оставим в датасете только фильмы, которые вышли в \"релиз\".\n",
    "* Уберем фильмы с пропусками в колонках ['overview', 'genres', 'keywords']\n",
    "* Выведем количество фильмов, оставшихся в выборке "
   ]
  },
  {
   "cell_type": "code",
   "execution_count": 1,
   "metadata": {},
   "outputs": [],
   "source": [
    "import pandas as pd\n",
    "from sklearn.feature_extraction.text import TfidfVectorizer\n",
    "from sklearn.metrics.pairwise import linear_kernel"
   ]
  },
  {
   "cell_type": "code",
   "execution_count": 2,
   "metadata": {
    "collapsed": false
   },
   "outputs": [
    {
     "name": "stdout",
     "output_type": "stream",
     "text": [
      "Количество фильмов, оставшихся после фильтрации = 4792\n"
     ]
    }
   ],
   "source": [
    "movies = pd.read_csv('../../datasets/tmdb_5000_movies.csv')\n",
    "credits = pd.read_csv('../../datasets/tmdb_5000_credits.csv')\n",
    "new_movies = pd.merge(movies, credits, how='left', left_on='id', right_on='movie_id')\n",
    "new_movies = new_movies[new_movies['status'] == 'Released'].dropna(subset=['overview', 'genres', 'keywords'])\n",
    "new_movies.rename(columns={'title_x': 'title'}, inplace=True)\n",
    "new_movies.drop(['movie_id', 'title_y'], axis=1, inplace=True)\n",
    "new_movies['release_year'] = new_movies['release_date'].str[:4]\n",
    "\n",
    "print(f'Количество фильмов, оставшихся после фильтрации = {new_movies.shape[0]}')"
   ]
  },
  {
   "cell_type": "markdown",
   "metadata": {},
   "source": [
    "Реализуем алгоритм рекомендации на основе описания фильма (`overview`) и ключевых слов к фильму (`keywords`). \n",
    "Объединим тексты этих колонок и проведем предобработку:\n",
    "* NaN в описании фильма заменены на пустой символ `''`\n",
    "* Удалены все английские стоп-слова (используй параметр `stop_words` в `TfidfVectorizer`)\n",
    "* Рассчитана матрицу [Tf-Idf](https://scikit-learn.org/stable/modules/generated/sklearn.feature_extraction.text.TfidfVectorizer.html) для описания фильмов(`max_features` в `TfidfVectorizer` равен 10000)"
   ]
  },
  {
   "cell_type": "code",
   "execution_count": 4,
   "metadata": {},
   "outputs": [
    {
     "name": "stdout",
     "output_type": "stream",
     "text": [
      "Размер получившейся матрицы Tf-Idf = (4792, 10000)\n"
     ]
    }
   ],
   "source": [
    "new_movies['overview'] = new_movies['overview'].fillna('')\n",
    "new_movies['overview_and_keywords'] = new_movies[['overview', 'keywords']].agg(' '.join, axis=1)\n",
    "tfidf = TfidfVectorizer(stop_words='english', max_features=10000)\n",
    "movies_tfidf = tfidf.fit_transform(new_movies['overview_and_keywords'])\n",
    "print(f'Размер получившейся матрицы Tf-Idf = {movies_tfidf.shape}')"
   ]
  },
  {
   "cell_type": "markdown",
   "metadata": {},
   "source": [
    "Рассчитаем [cosine similarity](https://scikit-learn.org/stable/modules/generated/sklearn.metrics.pairwise.cosine_similarity.html) \n",
    "между фильмами. Составим из этой матрицы датафрейм. \n",
    "\n",
    "Сохраним получившийся датафрейм c расстояниями в папку [assets](src/assets) с названием `distance.csv`.\n",
    "А сам объединенный датасет с фильмами сохраним в папку [assets](src/assets) с названием `movies.csv`."
   ]
  },
  {
   "cell_type": "code",
   "execution_count": 5,
   "metadata": {},
   "outputs": [],
   "source": [
    "cosine_sim = linear_kernel(movies_tfidf)\n",
    "distance = pd.DataFrame(cosine_sim, index=new_movies.id, columns=new_movies.id)\n",
    "# distance.columns = [str(x) for x in distance.columns]"
   ]
  },
  {
   "cell_type": "code",
   "execution_count": 6,
   "metadata": {
    "collapsed": false
   },
   "outputs": [
    {
     "data": {
      "text/html": [
       "<div>\n",
       "<style scoped>\n",
       "    .dataframe tbody tr th:only-of-type {\n",
       "        vertical-align: middle;\n",
       "    }\n",
       "\n",
       "    .dataframe tbody tr th {\n",
       "        vertical-align: top;\n",
       "    }\n",
       "\n",
       "    .dataframe thead th {\n",
       "        text-align: right;\n",
       "    }\n",
       "</style>\n",
       "<table border=\"1\" class=\"dataframe\">\n",
       "  <thead>\n",
       "    <tr style=\"text-align: right;\">\n",
       "      <th>id</th>\n",
       "      <th>19995</th>\n",
       "      <th>285</th>\n",
       "      <th>206647</th>\n",
       "      <th>49026</th>\n",
       "      <th>49529</th>\n",
       "      <th>559</th>\n",
       "      <th>38757</th>\n",
       "      <th>99861</th>\n",
       "      <th>767</th>\n",
       "      <th>209112</th>\n",
       "      <th>...</th>\n",
       "      <th>182291</th>\n",
       "      <th>286939</th>\n",
       "      <th>124606</th>\n",
       "      <th>14337</th>\n",
       "      <th>67238</th>\n",
       "      <th>9367</th>\n",
       "      <th>72766</th>\n",
       "      <th>231617</th>\n",
       "      <th>126186</th>\n",
       "      <th>25975</th>\n",
       "    </tr>\n",
       "    <tr>\n",
       "      <th>id</th>\n",
       "      <th></th>\n",
       "      <th></th>\n",
       "      <th></th>\n",
       "      <th></th>\n",
       "      <th></th>\n",
       "      <th></th>\n",
       "      <th></th>\n",
       "      <th></th>\n",
       "      <th></th>\n",
       "      <th></th>\n",
       "      <th></th>\n",
       "      <th></th>\n",
       "      <th></th>\n",
       "      <th></th>\n",
       "      <th></th>\n",
       "      <th></th>\n",
       "      <th></th>\n",
       "      <th></th>\n",
       "      <th></th>\n",
       "      <th></th>\n",
       "      <th></th>\n",
       "    </tr>\n",
       "  </thead>\n",
       "  <tbody>\n",
       "    <tr>\n",
       "      <th>19995</th>\n",
       "      <td>1.0000</td>\n",
       "      <td>0.1616</td>\n",
       "      <td>0.084173</td>\n",
       "      <td>0.141075</td>\n",
       "      <td>0.290498</td>\n",
       "      <td>0.163335</td>\n",
       "      <td>0.109851</td>\n",
       "      <td>0.135357</td>\n",
       "      <td>0.096274</td>\n",
       "      <td>0.092502</td>\n",
       "      <td>...</td>\n",
       "      <td>0.127258</td>\n",
       "      <td>0.0</td>\n",
       "      <td>0.062076</td>\n",
       "      <td>0.114813</td>\n",
       "      <td>0.0</td>\n",
       "      <td>0.043521</td>\n",
       "      <td>0.0</td>\n",
       "      <td>0.060299</td>\n",
       "      <td>0.010252</td>\n",
       "      <td>0.040575</td>\n",
       "    </tr>\n",
       "    <tr>\n",
       "      <th>285</th>\n",
       "      <td>0.1616</td>\n",
       "      <td>1.0000</td>\n",
       "      <td>0.079563</td>\n",
       "      <td>0.134989</td>\n",
       "      <td>0.148862</td>\n",
       "      <td>0.155402</td>\n",
       "      <td>0.101430</td>\n",
       "      <td>0.095819</td>\n",
       "      <td>0.091001</td>\n",
       "      <td>0.078926</td>\n",
       "      <td>...</td>\n",
       "      <td>0.120289</td>\n",
       "      <td>0.0</td>\n",
       "      <td>0.056188</td>\n",
       "      <td>0.085687</td>\n",
       "      <td>0.0</td>\n",
       "      <td>0.048129</td>\n",
       "      <td>0.0</td>\n",
       "      <td>0.067340</td>\n",
       "      <td>0.000000</td>\n",
       "      <td>0.038353</td>\n",
       "    </tr>\n",
       "  </tbody>\n",
       "</table>\n",
       "<p>2 rows × 4792 columns</p>\n",
       "</div>"
      ],
      "text/plain": [
       "id     19995   285       206647    49026     49529     559       38757   \\\n",
       "id                                                                        \n",
       "19995  1.0000  0.1616  0.084173  0.141075  0.290498  0.163335  0.109851   \n",
       "285    0.1616  1.0000  0.079563  0.134989  0.148862  0.155402  0.101430   \n",
       "\n",
       "id       99861     767       209112  ...    182291  286939    124606  \\\n",
       "id                                   ...                               \n",
       "19995  0.135357  0.096274  0.092502  ...  0.127258     0.0  0.062076   \n",
       "285    0.095819  0.091001  0.078926  ...  0.120289     0.0  0.056188   \n",
       "\n",
       "id       14337   67238     9367    72766     231617    126186    25975   \n",
       "id                                                                       \n",
       "19995  0.114813     0.0  0.043521     0.0  0.060299  0.010252  0.040575  \n",
       "285    0.085687     0.0  0.048129     0.0  0.067340  0.000000  0.038353  \n",
       "\n",
       "[2 rows x 4792 columns]"
      ]
     },
     "execution_count": 6,
     "metadata": {},
     "output_type": "execute_result"
    }
   ],
   "source": [
    "distance.head(2)"
   ]
  },
  {
   "cell_type": "code",
   "execution_count": 7,
   "metadata": {
    "collapsed": false
   },
   "outputs": [],
   "source": [
    "distance.to_csv('../assets/distance.csv')\n",
    "new_movies.to_csv('../assets/movie.csv')"
   ]
  }
 ],
 "metadata": {
  "kernelspec": {
   "display_name": "Python 3 (ipykernel)",
   "language": "python",
   "name": "python3"
  },
  "language_info": {
   "codemirror_mode": {
    "name": "ipython",
    "version": 3
   },
   "file_extension": ".py",
   "mimetype": "text/x-python",
   "name": "python",
   "nbconvert_exporter": "python",
   "pygments_lexer": "ipython3",
   "version": "3.10.7"
  }
 },
 "nbformat": 4,
 "nbformat_minor": 4
}
